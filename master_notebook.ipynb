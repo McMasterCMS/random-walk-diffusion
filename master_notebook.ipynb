{
 "cells": [
  {
   "cell_type": "code",
   "execution_count": 1,
   "source": [
    "# Access some helpful tools\r\n",
    "import tools\r\n",
    "import random"
   ],
   "outputs": [],
   "metadata": {}
  },
  {
   "cell_type": "code",
   "execution_count": 2,
   "source": [
    "# Represent an atom using x,y coordinates, starting at the origin.\r\n",
    "atom = [0, 0]"
   ],
   "outputs": [],
   "metadata": {}
  },
  {
   "cell_type": "code",
   "execution_count": 3,
   "source": [
    "# Display the position of the atom\r\n",
    "tools.display_atom(atom)"
   ],
   "outputs": [
    {
     "output_type": "display_data",
     "data": {
      "text/plain": [
       "<Figure size 432x288 with 1 Axes>"
      ],
      "image/png": "[encoded data removed]"
     },
     "metadata": {
      "needs_background": "light"
     }
    }
   ],
   "metadata": {}
  },
  {
   "cell_type": "code",
   "execution_count": 4,
   "source": [
    "# Make the atom 'walk' around the square lattice by randomly jumping\r\n",
    "\r\n",
    "# Define moving left or right randomly\r\n",
    "atom[0] = atom[0] + random.randint(-1, 1)\r\n",
    "\r\n",
    "# Define moving up or down randomly\r\n",
    "atom[1] = atom[1] + random.randint(-1, 1)"
   ],
   "outputs": [],
   "metadata": {}
  }
 ],
 "metadata": {
  "orig_nbformat": 4,
  "language_info": {
   "name": "python",
   "version": "3.7.4",
   "mimetype": "text/x-python",
   "codemirror_mode": {
    "name": "ipython",
    "version": 3
   },
   "pygments_lexer": "ipython3",
   "nbconvert_exporter": "python",
   "file_extension": ".py"
  },
  "kernelspec": {
   "name": "python3",
   "display_name": "Python 3.7.4 64-bit"
  },
  "interpreter": {
   "hash": "7ddd3495a700a0c68a475eec98ab5c0d8e4fb234bfd76fa61a8e3376ef4ee445"
  }
 },
 "nbformat": 4,
 "nbformat_minor": 2
}