{
 "cells": [
  {
   "cell_type": "code",
   "execution_count": null,
   "source": [
    "# Access some helpful tools\r\n",
    "import tools\r\n",
    "import random"
   ],
   "outputs": [],
   "metadata": {}
  },
  {
   "cell_type": "code",
   "execution_count": null,
   "source": [
    "# Represent an atom using x,y coordinates, starting at the origin.\r\n",
    "# For argument's sake say the length scale is just 1.\r\n",
    "atom = [0, 0]"
   ],
   "outputs": [],
   "metadata": {}
  },
  {
   "cell_type": "code",
   "execution_count": null,
   "source": [
    "# Display the position of the atom\r\n",
    "tools.display_atom(atom)"
   ],
   "outputs": [],
   "metadata": {}
  },
  {
   "cell_type": "code",
   "execution_count": null,
   "source": [
    "# Make the atom 'walk' around the square lattice by randomly jumping\r\n",
    "\r\n",
    "# Define moving left or right randomly\r\n",
    "atom[0] = atom[0] + random.randint(-1, 1)\r\n",
    "\r\n",
    "# Define moving up or down randomly\r\n",
    "atom[1] = atom[1] + random.randint(-1, 1)\r\n",
    "\r\n",
    "tools.display_atom(atom)"
   ],
   "outputs": [],
   "metadata": {}
  },
  {
   "cell_type": "code",
   "execution_count": null,
   "source": [
    "def jump(atom):\r\n",
    "    \"\"\"Make the atom 'walk' around the square lattice by randomly jumping.\"\"\"\r\n",
    "\r\n",
    "    original_x, original_y = atom\r\n",
    "\r\n",
    "    directions = [\"Up\", \"Down\", \"Left\", \"Right\"]\r\n",
    "    random_direction = random.choice(directions)\r\n",
    "\r\n",
    "    if random_direction == \"Up\":\r\n",
    "        new_x = original_x\r\n",
    "        new_y = original_y + 1\r\n",
    "\r\n",
    "    if random_direction == \"Down\":\r\n",
    "        new_x = original_x\r\n",
    "        new_y = original_y - 1\r\n",
    "\r\n",
    "    if random_direction == \"Left\":\r\n",
    "        new_x = original_x - 1\r\n",
    "        new_y = original_y\r\n",
    "\r\n",
    "    if random_direction == \"Right\":\r\n",
    "        new_x = original_x + 1\r\n",
    "        new_y = original_y\r\n",
    "\r\n",
    "    updated_atom = [new_x, new_y]\r\n",
    "\r\n",
    "    return updated_atom"
   ],
   "outputs": [],
   "metadata": {}
  },
  {
   "cell_type": "code",
   "execution_count": null,
   "source": [
    "# def displacement(atom):\r\n",
    "#     x, y = atom\r\n",
    "#     return (x**2 + y**2)**0.5"
   ],
   "outputs": [],
   "metadata": {}
  },
  {
   "cell_type": "code",
   "execution_count": null,
   "source": [
    "def simulate_atom(atom, m_steps):\r\n",
    "\r\n",
    "    atom_history = [atom]\r\n",
    "    # disp_history = [displacement(atom)]\r\n",
    "\r\n",
    "    for step in range(m_steps):\r\n",
    "        updated_atom = jump(atom)\r\n",
    "        atom_history.append(updated_atom)\r\n",
    "        atom = updated_atom\r\n",
    "\r\n",
    "        # disp = displacement(atom)\r\n",
    "        # disp_history.append(disp)\r\n",
    "\r\n",
    "    return atom, atom_history #, disp_history"
   ],
   "outputs": [],
   "metadata": {}
  },
  {
   "cell_type": "code",
   "execution_count": null,
   "source": [
    "# def simulate_atoms(n_atoms, m_steps):\r\n",
    "\r\n",
    "#     atoms = []\r\n",
    "#     atom_histories = []\r\n",
    "#     disp_histories = []\r\n",
    "\r\n",
    "#     for n in range(n_atoms):\r\n",
    "#         atom = [0, 0]\r\n",
    "#         atom, atom_history, disp_history = simulate_atom(atom, m_steps)\r\n",
    "#         atoms.append(atom)\r\n",
    "#         atom_histories.append(atom_history)\r\n",
    "#         disp_histories.append(disp_history)\r\n",
    "\r\n",
    "#     return atoms, atom_histories, disp_histories"
   ],
   "outputs": [],
   "metadata": {}
  },
  {
   "cell_type": "code",
   "execution_count": null,
   "source": [
    "def simulate_atoms(n_atoms, m_steps):\r\n",
    "\r\n",
    "    atom_finals = []\r\n",
    "    atom_histories = []\r\n",
    "\r\n",
    "    for n in range(n_atoms):\r\n",
    "        atom = [0, 0]\r\n",
    "        atom_final, atom_history = simulate_atom(atom, m_steps)\r\n",
    "        atom_finals.append(atom_final)\r\n",
    "        atom_histories.append(atom_history)\r\n",
    "\r\n",
    "    return atom_finals, atom_histories"
   ],
   "outputs": [],
   "metadata": {}
  },
  {
   "cell_type": "code",
   "execution_count": null,
   "source": [
    "atom_init = [0, 0]\r\n",
    "atom_final, atom_history, disp_history = simulate_atom(atom_init, 100)\r\n",
    "tools.display_atom(atom_final, atom_history, disp_history)"
   ],
   "outputs": [],
   "metadata": {}
  },
  {
   "cell_type": "code",
   "execution_count": null,
   "source": [
    "atoms_final, atom_histories, disp_histories = simulate_atoms(3, 50)\r\n",
    "tools.display_atoms(atoms_final, atom_histories, disp_histories)"
   ],
   "outputs": [],
   "metadata": {}
  },
  {
   "cell_type": "code",
   "execution_count": null,
   "source": [
    "tools.display_probability(atoms_final, compare_gaussian=True, num_jumps=len(disp_histories[0]))"
   ],
   "outputs": [],
   "metadata": {}
  }
 ],
 "metadata": {
  "orig_nbformat": 4,
  "language_info": {
   "name": "python",
   "version": "3.7.4",
   "mimetype": "text/x-python",
   "codemirror_mode": {
    "name": "ipython",
    "version": 3
   },
   "pygments_lexer": "ipython3",
   "nbconvert_exporter": "python",
   "file_extension": ".py"
  },
  "kernelspec": {
   "name": "python3",
   "display_name": "Python 3.7.4 64-bit"
  },
  "interpreter": {
   "hash": "7ddd3495a700a0c68a475eec98ab5c0d8e4fb234bfd76fa61a8e3376ef4ee445"
  }
 },
 "nbformat": 4,
 "nbformat_minor": 2
}